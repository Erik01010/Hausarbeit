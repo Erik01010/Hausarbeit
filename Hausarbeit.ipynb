{
 "cells": [
  {
   "cell_type": "code",
   "execution_count": null,
   "id": "22f07ebb-ec5b-4b29-81bc-6a1e70370e32",
   "metadata": {},
   "outputs": [],
   "source": [
    "import pandas as pd\n",
    "import numpy as np\n",
    "import matplotlib.pyplot as plt\n",
    "import yfinance as yf\n",
    "import seaborn as sns\n",
    "import os\n",
    "from scipy.stats import norm"
   ]
  },
  {
   "cell_type": "code",
   "execution_count": null,
   "id": "59ab1e04-8ec7-4d9d-bf7f-daf10b616b55",
   "metadata": {},
   "outputs": [],
   "source": [
    "# declare Variables\n",
    "tickers = [\"AAPL\", \"BTC-USD\", \"GC=F\", \"^GSPC\", \"EURUSD=X\"]\n",
    "start = \"2014-01-01\"\n",
    "end = \"2024-11-04\"\n",
    "interval = \"1d\"\n",
    "filename = \"multi_assets.csv\""
   ]
  },
  {
   "cell_type": "code",
   "execution_count": null,
   "id": "b3905b81-126a-4f97-b203-a125ef5ddb9f",
   "metadata": {},
   "outputs": [],
   "source": [
    "# Check if Data is already downloaded and saved in csv-file. \n",
    "# Make sure, csv-file is stored in same folder as this Jupiter Notebook!\n",
    "\n",
    "if os.path.isfile(filename):\n",
    "    df = pd.read_csv(filename, header = [0, 1], index_col = 0, parse_dates = [0])\n",
    "    print(\"read from csv complete\")\n",
    "else:\n",
    "    # Download Data from Yahoo Finance API\n",
    "    df = yf.download(tickers, start, end, interval)\n",
    "    \n",
    "    # Save dataframe to csv-file.\n",
    "    df.to_csv(filename)\n",
    "    print(\"Download complete. Data saved in {}\".format(filename))"
   ]
  },
  {
   "cell_type": "code",
   "execution_count": null,
   "id": "22cbf564-e895-46c8-ac74-985e15a52a27",
   "metadata": {},
   "outputs": [],
   "source": [
    "# create new DataFrame with close prices only\n",
    "close = df.Close.copy()"
   ]
  },
  {
   "cell_type": "code",
   "execution_count": null,
   "id": "00110b34-cf24-4797-9cac-22084caaf64e",
   "metadata": {},
   "outputs": [],
   "source": [
    "# Show important stastitic metrics\n",
    "close.describe()"
   ]
  },
  {
   "cell_type": "code",
   "execution_count": null,
   "id": "dd10b890-b804-4945-a2dc-693ff4af5af2",
   "metadata": {},
   "outputs": [],
   "source": [
    "# Linechart close-prices for 5 instruments\n",
    "\n",
    "close.plot(figsize=(15, 8), fontsize=13)\n",
    "plt.legend(fontsize=13)\n",
    "plt.ylabel(\"Price\")\n",
    "plt.title(\"Price Chart\")"
   ]
  },
  {
   "cell_type": "code",
   "execution_count": null,
   "id": "e069a96a-2c47-4346-94ca-34626e4daa40",
   "metadata": {},
   "outputs": [],
   "source": [
    "# Calculate logarithmic returns and save in new DataFrame\n",
    "returns = close.copy().apply(lambda x: np.log(x.dropna()/x.dropna().shift(1))).dropna()"
   ]
  },
  {
   "cell_type": "code",
   "execution_count": null,
   "id": "cb61a7e7-7f90-4c7a-be0b-22157a5eb536",
   "metadata": {},
   "outputs": [],
   "source": [
    "# Create new DataFrame containing only cumulative returns\n",
    "creturns = returns.copy()\n",
    "for ticker in tickers:\n",
    "    creturns[\"{}\".format(ticker)] = creturns[\"{}\".format(ticker)].cumsum()"
   ]
  },
  {
   "cell_type": "code",
   "execution_count": null,
   "id": "e3806196-3f2d-4a32-8fa0-dbbd1092e2f0",
   "metadata": {},
   "outputs": [],
   "source": [
    "# Linechart cumulative returns for 5 instruments\n",
    "\n",
    "creturns.plot(figsize=(15,8), fontsize=13, grid=True);\n",
    "plt.title(\"Cumulative logarithmic returns for 5 istruments\")\n",
    "plt.ylabel(\"cum log returns\")\n",
    "plt.legend(fontsize=13)"
   ]
  },
  {
   "cell_type": "code",
   "execution_count": null,
   "id": "90aeac65-b833-451e-94bf-bac08a12d13b",
   "metadata": {},
   "outputs": [],
   "source": [
    "# Linechart BTC and moving averages\n",
    "\n",
    "# Calculate simple moving averages for BTC\n",
    "btc = creturns[\"BTC-USD\"].copy().to_frame()\n",
    "btc[\"sma50\"] = btc[\"BTC-USD\"].rolling(50).mean()\n",
    "btc[\"sma100\"] = btc[\"BTC-USD\"].rolling(100).mean()\n",
    "btc[\"sma200\"] = btc[\"BTC-USD\"].rolling(200).mean()\n",
    "\n",
    "btc.plot(figsize=(15,8), fontsize=13)\n",
    "plt.legend(fontsize=13)\n",
    "plt.ylabel(\"log returns\")\n",
    "plt.title(\"log Returns and Simple Moving Averages for BTC-USD\")\n",
    "plt.show()"
   ]
  },
  {
   "cell_type": "code",
   "execution_count": null,
   "id": "d849626b-2310-4399-9ade-bd3e06e140b4",
   "metadata": {},
   "outputs": [],
   "source": [
    "# Histogram: compare distribution of Apple daily returns with normal distribution\n",
    "data = returns[\"AAPL\"]\n",
    "\n",
    "# Caluclating parameters for normal distribution\n",
    "mean = data.mean()\n",
    "std_dev = data.std()\n",
    "\n",
    "# Creating Data for theoretic normal distribution\n",
    "x = np.linspace(data.min(), data.max(), 100)\n",
    "gauss = norm.pdf(x, mean, std_dev)\n",
    "\n",
    "plt.figure(figsize=(12, 8))\n",
    "\n",
    "# Histogram of daily returns\n",
    "plt.hist(data, bins=100, density=True, alpha=0.8, color='blue', label='Daily Returns of AAPL')\n",
    "\n",
    "# Histogram for normal distribution\n",
    "plt.hist(x, bins=100, weights=gauss, alpha=0.4, color='red', label='Normally distributed returns')\n",
    "\n",
    "\n",
    "plt.title('Distribution of AAPL Daily Returns Compared with a Normal Distribution')\n",
    "plt.xlabel('Daily Returns')\n",
    "plt.ylabel('Density')\n",
    "plt.legend()\n",
    "plt.show()"
   ]
  },
  {
   "cell_type": "code",
   "execution_count": null,
   "id": "3201c6fa-2d41-49c2-ab6a-7e5fa5e3c508",
   "metadata": {},
   "outputs": [],
   "source": [
    "# Correlation-Heatmap\n",
    "\n",
    "# Compute correlation\n",
    "correlation_matrix = returns.corr()\n",
    "\n",
    "# Plot Heatmap\n",
    "plt.figure(figsize=(10, 8))\n",
    "sns.heatmap(correlation_matrix, annot=True, cmap='viridis')\n",
    "plt.title('Correlation between returns of different Instruments')\n",
    "plt.show()"
   ]
  },
  {
   "cell_type": "code",
   "execution_count": null,
   "id": "57033876-6d59-420f-b99d-59c3669cb1fb",
   "metadata": {},
   "outputs": [],
   "source": []
  }
 ],
 "metadata": {
  "kernelspec": {
   "display_name": "Python 3 (ipykernel)",
   "language": "python",
   "name": "python3"
  },
  "language_info": {
   "codemirror_mode": {
    "name": "ipython",
    "version": 3
   },
   "file_extension": ".py",
   "mimetype": "text/x-python",
   "name": "python",
   "nbconvert_exporter": "python",
   "pygments_lexer": "ipython3",
   "version": "3.12.4"
  }
 },
 "nbformat": 4,
 "nbformat_minor": 5
}
